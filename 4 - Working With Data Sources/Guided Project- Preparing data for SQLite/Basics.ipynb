{
 "cells": [
  {
   "cell_type": "code",
   "execution_count": 1,
   "metadata": {
    "collapsed": false
   },
   "outputs": [],
   "source": [
    "import pandas as pd\n",
    "awards = pd.read_csv(\"academy_awards.csv\", encoding=\"ISO-8859-1\")"
   ]
  },
  {
   "cell_type": "code",
   "execution_count": 2,
   "metadata": {
    "collapsed": false
   },
   "outputs": [
    {
     "name": "stdout",
     "output_type": "stream",
     "text": [
      "          Year               Category          Nominee  \\\n",
      "0  2010 (83rd)  Actor -- Leading Role    Javier Bardem   \n",
      "1  2010 (83rd)  Actor -- Leading Role     Jeff Bridges   \n",
      "2  2010 (83rd)  Actor -- Leading Role  Jesse Eisenberg   \n",
      "3  2010 (83rd)  Actor -- Leading Role      Colin Firth   \n",
      "4  2010 (83rd)  Actor -- Leading Role     James Franco   \n",
      "\n",
      "                          Additional Info Won? Unnamed: 5 Unnamed: 6  \\\n",
      "0                      Biutiful {'Uxbal'}   NO        NaN        NaN   \n",
      "1           True Grit {'Rooster Cogburn'}   NO        NaN        NaN   \n",
      "2  The Social Network {'Mark Zuckerberg'}   NO        NaN        NaN   \n",
      "3    The King's Speech {'King George VI'}  YES        NaN        NaN   \n",
      "4              127 Hours {'Aron Ralston'}   NO        NaN        NaN   \n",
      "\n",
      "  Unnamed: 7 Unnamed: 8 Unnamed: 9 Unnamed: 10  \n",
      "0        NaN        NaN        NaN         NaN  \n",
      "1        NaN        NaN        NaN         NaN  \n",
      "2        NaN        NaN        NaN         NaN  \n",
      "3        NaN        NaN        NaN         NaN  \n",
      "4        NaN        NaN        NaN         NaN  \n"
     ]
    }
   ],
   "source": [
    "awards.shape\n",
    "print(awards.head())"
   ]
  },
  {
   "cell_type": "code",
   "execution_count": 3,
   "metadata": {
    "collapsed": false
   },
   "outputs": [
    {
     "name": "stdout",
     "output_type": "stream",
     "text": [
      "Index(['Year', 'Category', 'Nominee', 'Additional Info', 'Won?', 'Unnamed: 5',\n",
      "       'Unnamed: 6', 'Unnamed: 7', 'Unnamed: 8', 'Unnamed: 9', 'Unnamed: 10'],\n",
      "      dtype='object')\n"
     ]
    }
   ],
   "source": [
    "print(awards.columns)"
   ]
  },
  {
   "cell_type": "code",
   "execution_count": 4,
   "metadata": {
    "collapsed": false
   },
   "outputs": [
    {
     "name": "stdout",
     "output_type": "stream",
     "text": [
      "*                                                                   9\n",
      " flexibility and water resistance                                   1\n",
      " direct radiator bass style cinema loudspeaker systems. [Sound]\"    1\n",
      " sympathetic                                                        1\n",
      "Name: Unnamed: 6, dtype: int64\n"
     ]
    }
   ],
   "source": [
    "print(awards[\"Unnamed: 6\"].value_counts())"
   ]
  },
  {
   "cell_type": "code",
   "execution_count": 5,
   "metadata": {
    "collapsed": false
   },
   "outputs": [
    {
     "name": "stdout",
     "output_type": "stream",
     "text": [
      "1941 (14th)      192\n",
      "1942 (15th)      190\n",
      "1943 (16th)      188\n",
      "1944 (17th)      181\n",
      "1945 (18th)      163\n",
      "1940 (13th)      162\n",
      "1939 (12th)      153\n",
      "1998 (71st)      150\n",
      "1938 (11th)      145\n",
      "1954 (27th)      141\n",
      "1995 (68th)      141\n",
      "2009 (82nd)      140\n",
      "1952 (25th)      138\n",
      "1994 (67th)      138\n",
      "2001 (74th)      137\n",
      "1997 (70th)      137\n",
      "1953 (26th)      135\n",
      "1937 (10th)      135\n",
      "2010 (83rd)      135\n",
      "1956 (29th)      134\n",
      "1964 (37th)      132\n",
      "1955 (28th)      132\n",
      "1996 (69th)      131\n",
      "2006 (79th)      130\n",
      "1966 (39th)      129\n",
      "1990 (63rd)      129\n",
      "2004 (77th)      129\n",
      "1961 (34th)      129\n",
      "2000 (73rd)      129\n",
      "2005 (78th)      129\n",
      "                ... \n",
      "1987 (60th)      119\n",
      "2008 (81st)      118\n",
      "1975 (48th)      118\n",
      "1950 (23rd)      116\n",
      "1983 (56th)      116\n",
      "1985 (58th)      116\n",
      "1974 (47th)      115\n",
      "1958 (31st)      115\n",
      "1946 (19th)      115\n",
      "1948 (21st)      115\n",
      "1936 (9th)       115\n",
      "1989 (62nd)      114\n",
      "1947 (20th)      114\n",
      "1972 (45th)      114\n",
      "1976 (49th)      113\n",
      "1980 (53rd)      113\n",
      "1967 (40th)      113\n",
      "1970 (43rd)      112\n",
      "1969 (42nd)      112\n",
      "1971 (44th)      110\n",
      "1973 (46th)      109\n",
      "1957 (30th)      106\n",
      "1935 (8th)        95\n",
      "1934 (7th)        68\n",
      "1932/33 (6th)     65\n",
      "1930/31 (4th)     50\n",
      "1931/32 (5th)     47\n",
      "1929/30 (3rd)     42\n",
      "1927/28 (1st)     39\n",
      "1928/29 (2nd)     38\n",
      "Name: Year, dtype: int64\n",
      "Writing                                                        888\n",
      "Music (Scoring)                                                748\n",
      "Cinematography                                                 572\n",
      "Art Direction                                                  552\n",
      "Best Picture                                                   485\n",
      "Sound                                                          460\n",
      "Short Film (Live Action)                                       434\n",
      "Scientific and Technical (Technical Achievement Award)         428\n",
      "Music (Song)                                                   413\n",
      "Actress -- Leading Role                                        411\n",
      "Directing                                                      410\n",
      "Actor -- Leading Role                                          408\n",
      "Film Editing                                                   385\n",
      "Costume Design                                                 384\n",
      "Actress -- Supporting Role                                     375\n",
      "Actor -- Supporting Role                                       375\n",
      "Short Film (Animated)                                          328\n",
      "Documentary (Short Subject)                                    323\n",
      "Documentary (Feature)                                          292\n",
      "Foreign Language Film                                          283\n",
      "Scientific and Technical (Scientific and Engineering Award)    273\n",
      "Honorary Award                                                 159\n",
      "Visual Effects                                                 117\n",
      "Sound Editing                                                  104\n",
      "Special Effects (archaic category)                              92\n",
      "Makeup                                                          86\n",
      "Scientific and Technical (Academy Award of Merit)               45\n",
      "Irving G. Thalberg Memorial Award                               44\n",
      "Animated Feature Film                                           37\n",
      "Assistant Director (archaic category)                           35\n",
      "Jean Hersholt Humanitarian Award                                33\n",
      "Scientific and Technical (Bonner Medal)                         33\n",
      "Documentary (other)                                             25\n",
      "Dance Direction (archaic category)                              22\n",
      "Scientific and Technical (Gordon E. Sawyer Award)               22\n",
      "Scientific and Technical (Special Awards)                       18\n",
      "Special Achievement Award                                       18\n",
      "Acting (other)                                                  14\n",
      "Unique and Artistic Picture (archaic category)                   3\n",
      "Engineering Effects (archaic category)                           3\n",
      "Name: Category, dtype: int64\n",
      "Meryl Streep                                                                                                                                                                                                                                                                                                                                                                                                                                                                                                                                   16\n",
      "Titanic                                                                                                                                                                                                                                                                                                                                                                                                                                                                                                                                        14\n",
      "Cleopatra                                                                                                                                                                                                                                                                                                                                                                                                                                                                                                                                      13\n",
      "A Star Is Born                                                                                                                                                                                                                                                                                                                                                                                                                                                                                                                                 13\n",
      "Moulin Rouge                                                                                                                                                                                                                                                                                                                                                                                                                                                                                                                                   12\n",
      "Jack Nicholson                                                                                                                                                                                                                                                                                                                                                                                                                                                                                                                                 12\n",
      "Mary Poppins                                                                                                                                                                                                                                                                                                                                                                                                                                                                                                                                   12\n",
      "Katharine Hepburn                                                                                                                                                                                                                                                                                                                                                                                                                                                                                                                              12\n",
      "Mutiny on the Bounty                                                                                                                                                                                                                                                                                                                                                                                                                                                                                                                           12\n",
      "The Lord of the Rings: The Fellowship of the Ring                                                                                                                                                                                                                                                                                                                                                                                                                                                                                              12\n",
      "Hamlet                                                                                                                                                                                                                                                                                                                                                                                                                                                                                                                                         11\n",
      "Forrest Gump                                                                                                                                                                                                                                                                                                                                                                                                                                                                                                                                   11\n",
      "The Lord of the Rings: The Return of the King                                                                                                                                                                                                                                                                                                                                                                                                                                                                                                  11\n",
      "The Curious Case of Benjamin Button                                                                                                                                                                                                                                                                                                                                                                                                                                                                                                            11\n",
      "Bette Davis                                                                                                                                                                                                                                                                                                                                                                                                                                                                                                                                    11\n",
      "Shakespeare in Love                                                                                                                                                                                                                                                                                                                                                                                                                                                                                                                            10\n",
      "Crouching Tiger, Hidden Dragon                                                                                                                                                                                                                                                                                                                                                                                                                                                                                                                 10\n",
      "Saving Private Ryan                                                                                                                                                                                                                                                                                                                                                                                                                                                                                                                            10\n",
      "Raiders of the Lost Ark                                                                                                                                                                                                                                                                                                                                                                                                                                                                                                                        10\n",
      "Master and Commander: The Far Side of the World                                                                                                                                                                                                                                                                                                                                                                                                                                                                                                10\n",
      "Paul Newman                                                                                                                                                                                                                                                                                                                                                                                                                                                                                                                                    10\n",
      "Slumdog Millionaire                                                                                                                                                                                                                                                                                                                                                                                                                                                                                                                            10\n",
      "Gandhi                                                                                                                                                                                                                                                                                                                                                                                                                                                                                                                                         10\n",
      "Gladiator                                                                                                                                                                                                                                                                                                                                                                                                                                                                                                                                      10\n",
      "Ben-Hur                                                                                                                                                                                                                                                                                                                                                                                                                                                                                                                                        10\n",
      "Schindler's List                                                                                                                                                                                                                                                                                                                                                                                                                                                                                                                               10\n",
      "Braveheart                                                                                                                                                                                                                                                                                                                                                                                                                                                                                                                                     10\n",
      "All about Eve                                                                                                                                                                                                                                                                                                                                                                                                                                                                                                                                   9\n",
      "My Fair Lady                                                                                                                                                                                                                                                                                                                                                                                                                                                                                                                                    9\n",
      "Out of Africa                                                                                                                                                                                                                                                                                                                                                                                                                                                                                                                                   9\n",
      "                                                                                                                                                                                                                                                                                                                                                                                                                                                                                                                                               ..\n",
      "To WILLARD H. TURNER and the RKO RADIO STUDIO SOUND DEPARTMENT for the design and construction of the phono-cue starter. [Sound]                                                                                                                                                                                                                                                                                                                                                                                                                1\n",
      "Fiddlefest--Roberta Tzavaras and Her East Harlem Violin Program                                                                                                                                                                                                                                                                                                                                                                                                                                                                                 1\n",
      "Suzanne Farrell: Elusive Muse                                                                                                                                                                                                                                                                                                                                                                                                                                                                                                                   1\n",
      "Donald Crisp                                                                                                                                                                                                                                                                                                                                                                                                                                                                                                                                    1\n",
      "Rachel Roberts                                                                                                                                                                                                                                                                                                                                                                                                                                                                                                                                  1\n",
      "King of the Zombies                                                                                                                                                                                                                                                                                                                                                                                                                                                                                                                             1\n",
      "Toot, Whistle, Plunk and Boom                                                                                                                                                                                                                                                                                                                                                                                                                                                                                                                   1\n",
      "The Strauss Fantasy                                                                                                                                                                                                                                                                                                                                                                                                                                                                                                                             1\n",
      "Strangers on a Train                                                                                                                                                                                                                                                                                                                                                                                                                                                                                                                            1\n",
      "Dear Diary                                                                                                                                                                                                                                                                                                                                                                                                                                                                                                                                      1\n",
      "Beetlejuice                                                                                                                                                                                                                                                                                                                                                                                                                                                                                                                                     1\n",
      "Thanks a Million                                                                                                                                                                                                                                                                                                                                                                                                                                                                                                                                1\n",
      "Catherine Zeta-Jones                                                                                                                                                                                                                                                                                                                                                                                                                                                                                                                            1\n",
      "To MICHAEL SORENSEN and RICHARD ALEXANDER of Sorensen Designs International, and DONALD TRUMBULL for advancing the state-of-the-art of real-time motion-control, as exemplified in the Gazelle and Zebra camera dolly systems. Over the past decade, Sorensen, Alexander and Trumbull have improved the speed, repeatability and portability of robotic camera platforms through novel engineering concepts and the pioneering use of composite materials. [Camera Cranes]                                                                      1\n",
      "To CHRISTOPHER ALFRED, ANDREW J. CANNON, MICHAEL C. CARLOS, MARK CRABTREE, CHUCK GRINDSTAFF and JOHN MELANSON for their significant contributions to the evolution of digital audio editing for motion picture post production. Through their respective pioneering efforts with AMS AudioFile, Waveframe and Fairlight, the work of these gentlemen contributed significantly to the development and realization of digital audio workstations with full editing capabilities for motion picture soundtracks. [Digital Imaging Technology]     1\n",
      "An Essay on Matisse                                                                                                                                                                                                                                                                                                                                                                                                                                                                                                                             1\n",
      "To Ioan Allen for the concept, Robin Bransbury for the design and Mark Harrah for the implementation of the Trailer Audio Standards Association (TASA) Loudness Standard. The adoption of the TASA loudness standard has led directly to better sound in the cinema for trailers and features alike.                                                                                                                                                                                                                                            1\n",
      "To WILLI BURTH and KINOTONE CORPORATION for the invention and development of the Non-rewind Platter System for motion picture presentations. [Projection]                                                                                                                                                                                                                                                                                                                                                                                       1\n",
      "Monster House                                                                                                                                                                                                                                                                                                                                                                                                                                                                                                                                   1\n",
      "To FAZ FAZAKAS, BRIAN HENSON, DAVE HOUSMAN, PETER MILLER and JOHN STEPHENSON for the development of the Henson Performance Control System. [Systems]                                                                                                                                                                                                                                                                                                                                                                                            1\n",
      "Billie Burke                                                                                                                                                                                                                                                                                                                                                                                                                                                                                                                                    1\n",
      "Janet McTeer                                                                                                                                                                                                                                                                                                                                                                                                                                                                                                                                    1\n",
      "To MIKE DENECKE for refining and further developing electronic time code slates. Due to their features and simplified operational procedures, the Denecke slates have had significant impact on the motion picture industry and have become the standard for electronic time code slates. [Editorial and Pre-production]                                                                                                                                                                                                                        1\n",
      "Arthur Edeson                                                                                                                                                                                                                                                                                                                                                                                                                                                                                                                                   1\n",
      "Robert Kennedy Remembered                                                                                                                                                                                                                                                                                                                                                                                                                                                                                                                       1\n",
      "Vera Farmiga                                                                                                                                                                                                                                                                                                                                                                                                                                                                                                                                    1\n",
      "To Eddie Cantor for distinguished service to the film industry.                                                                                                                                                                                                                                                                                                                                                                                                                                                                                 1\n",
      "Day & Night                                                                                                                                                                                                                                                                                                                                                                                                                                                                                                                                     1\n",
      "To ELECTRICAL RESEARCH PRODUCTS, INC. for their wide range recording and reporducing system. [Sound]                                                                                                                                                                                                                                                                                                                                                                                                                                            1\n",
      "Waco: The Rules of Engagement                                                                                                                                                                                                                                                                                                                                                                                                                                                                                                                   1\n",
      "Name: Nominee, dtype: int64\n",
      "Metro-Goldwyn-Mayer                                                                             60\n",
      "Walt Disney, Producer                                                                           57\n",
      "Warner Bros.                                                                                    42\n",
      "John Williams                                                                                   37\n",
      "France                                                                                          35\n",
      "Alfred Newman                                                                                   34\n",
      "Italy                                                                                           26\n",
      "Paramount                                                                                       24\n",
      "Gordon Hollingshead, Producer                                                                   22\n",
      "Edith Head                                                                                      22\n",
      "20th Century-Fox                                                                                20\n",
      "RKO Radio                                                                                       20\n",
      "Spain                                                                                           19\n",
      "Victor Young                                                                                    19\n",
      "Leon Shamroy                                                                                    17\n",
      "Max Steiner                                                                                     16\n",
      "Jerry Goldsmith                                                                                 16\n",
      "Woody Allen                                                                                     16\n",
      "Metro-Goldwyn-Mayer Studio Sound Department, Douglas Shearer, Sound Director                    15\n",
      "Miklos Rozsa                                                                                    14\n",
      "Sweden                                                                                          14\n",
      "Alex North                                                                                      14\n",
      "Pete Smith, Producer                                                                            13\n",
      "Columbia Studio Sound Department, John Livadary, Sound Director                                 13\n",
      "Columbia                                                                                        13\n",
      "Dimitri Tiomkin                                                                                 13\n",
      "William Wyler                                                                                   12\n",
      "Jean Louis                                                                                      12\n",
      "Franz Waxman                                                                                    12\n",
      "Music and Lyric by Randy Newman                                                                 12\n",
      "                                                                                                ..\n",
      "The Kids Are All Right {'Nic'}                                                                   1\n",
      "Prizzi's Honor {'Don Corrado Prizzi'}                                                            1\n",
      "The China Syndrome {'Jack Godell'}                                                               1\n",
      "Columbia Studio Sound Department                                                                 1\n",
      "Michael Minkler, Tony Lamberti and Mark Ulano                                                    1\n",
      "Robert Gardner, Producer                                                                         1\n",
      "Alibi                                                                                            1\n",
      "Dr. Frank Daniel and Izak Ben-Meir, Producers                                                    1\n",
      "Daniel Barber and Matthew Brown                                                                  1\n",
      "Frederic E. Rich                                                                                 1\n",
      "Alan Raymond and Susan Raymond, Producers                                                        1\n",
      "Harold E. Stine                                                                                  1\n",
      "Art Direction: William A. Horning, Urie McCleary; Set Decoration: Edwin B. Willis, Hugh Hunt     1\n",
      "Art Direction: Stuart Craig, Bob Cartwright; Set Decoration: Hugh Scaife                         1\n",
      "The Last Picture Show {'Sam the Lion'}                                                           1\n",
      "Ingo Preminger, Producer                                                                         1\n",
      "Tom Jones {'Molly'}                                                                              1\n",
      "Mike Gray, T.S. Cook, James Bridges                                                              1\n",
      "Gaslight {'Paula Alquist'}                                                                       1\n",
      "Music and Lyric by Burt Bacharach, Carole Bayer Sager, Christopher Cross and Peter Allen         1\n",
      "Robert Verrall and Wolf Koenig, Producers                                                        1\n",
      "The Bridges of Madison County {'Francesca Johnson'}                                              1\n",
      "Terms of Endearment {'Emma Horton'}                                                              1\n",
      "Don MacDougall, Ray West, Bob Minkler, Derek Ball                                                1\n",
      " and adding an expressive multi-target shape interpolation-based freeform animation system       1\n",
      "Art Direction: Fernando Carrere; Set Decoration: Edward G. Boyle                                 1\n",
      "The Aviator {'Senator Ralph Owen Brewster'}                                                      1\n",
      "Music by Harry Warren; Lyrics by Jack Brooks                                                     1\n",
      "Thomas Monroe, Laszlo Gorog                                                                      1\n",
      "Visual Effects by L. B. Abbott, James B. Gordon; Audible Effects by Carl Faulkner                1\n",
      "Name: Additional Info, dtype: int64\n",
      "NO                                                                                                                                                                                              7168\n",
      "YES                                                                                                                                                                                             2955\n",
      " the \"Caricature\" system provides a degree of subtlety and refinement not possible with other systems. [Special Photographic]\"                                                                     1\n",
      " the Academy presents a Special Award to that master of fun                                                                                                                                        1\n",
      " which significantly reduces the need for painstaking                                                                                                                                              1\n",
      " as well as 3D prosthetic appliances ranging in size from small wounds to entire torsos. They utilize self-adhesive material that features an unprecedented combination of tissue-thin edges       1\n",
      " water and avalanches with familiar operators inspired by image compositing and painting operations. [Digital Imaging Technology]\"                                                                 1\n",
      " more conventional fog units. [Stage Operations]\"                                                                                                                                                  1\n",
      " this premier reference manual has had a significant impact on decades of motion picture photography around the world.\"                                                                            1\n",
      " complex cloth could be achieved efficiently and robustly. Their work provided the conceptual foundation for many cloth simulation systems in use today. [Digital Imaging Technology]\"             1\n",
      "000 agents were controlled in several scenes. [Digital Imaging Technology]\"                                                                                                                        1\n",
      " direct radiator style motion picture loudspeaker systems. The work of John M. Eargle                                                                                                              1\n",
      " economic and realistic filming of action sequences that may involve principal actors and dialogue. [Stage Operations]\"                                                                            1\n",
      " and Tails\" numbers from Top Hat [came in 2nd]\"                                                                                                                                                    1\n",
      " deforming objects. [Digital Imaging Technology]\"                                                                                                                                                  1\n",
      " for his contributions to the development of motion pictures as entertainment.\"                                                                                                                    1\n",
      "Name: Won?, dtype: int64\n",
      "*                                                                                                               7\n",
      " resilience                                                                                                     1\n",
      " discoverer of stars                                                                                            1\n",
      " D.B. \"Don\" Keele and Mark E. Engebretson has resulted in the over 20-year dominance of constant-directivity    1\n",
      " error-prone measurements on sets. [Digital Imaging Technology]\"                                                1\n",
      "Name: Unnamed: 5, dtype: int64\n",
      "*                                                                   9\n",
      " flexibility and water resistance                                   1\n",
      " direct radiator bass style cinema loudspeaker systems. [Sound]\"    1\n",
      " sympathetic                                                        1\n",
      "Name: Unnamed: 6, dtype: int64\n",
      " while requiring no dangerous solvents. [Systems]\"    1\n",
      " kindly                                               1\n",
      "*                                                     1\n",
      "Name: Unnamed: 7, dtype: int64\n",
      " understanding comedy genius - Mack Sennett.\"\"    1\n",
      "*                                                 1\n",
      "Name: Unnamed: 8, dtype: int64\n",
      "*    1\n",
      "Name: Unnamed: 9, dtype: int64\n",
      "*    1\n",
      "Name: Unnamed: 10, dtype: int64\n"
     ]
    }
   ],
   "source": [
    "cols = awards.columns\n",
    "for col in cols:\n",
    "    print(awards[col].value_counts())"
   ]
  },
  {
   "cell_type": "code",
   "execution_count": 6,
   "metadata": {
    "collapsed": false
   },
   "outputs": [
    {
     "name": "stdout",
     "output_type": "stream",
     "text": [
      "0    2010\n",
      "1    2010\n",
      "2    2010\n",
      "3    2010\n",
      "4    2010\n",
      "Name: Year, dtype: object\n"
     ]
    }
   ],
   "source": [
    "awards[\"Year\"] = awards[\"Year\"].str[0:4]\n",
    "print(awards[\"Year\"].head())"
   ]
  },
  {
   "cell_type": "raw",
   "metadata": {},
   "source": []
  },
  {
   "cell_type": "code",
   "execution_count": 7,
   "metadata": {
    "collapsed": false
   },
   "outputs": [
    {
     "name": "stdout",
     "output_type": "stream",
     "text": [
      "0    2010\n",
      "1    2010\n",
      "2    2010\n",
      "3    2010\n",
      "4    2010\n",
      "Name: Year, dtype: int64\n"
     ]
    }
   ],
   "source": [
    "awards[\"Year\"] = awards[\"Year\"].astype('int64')\n",
    "print(awards[\"Year\"].head())"
   ]
  },
  {
   "cell_type": "code",
   "execution_count": 8,
   "metadata": {
    "collapsed": false
   },
   "outputs": [
    {
     "name": "stdout",
     "output_type": "stream",
     "text": [
      "(10137, 11)\n",
      "(1294, 11)\n"
     ]
    }
   ],
   "source": [
    "print(awards.shape)\n",
    "later_than_2000 = awards[awards[\"Year\"] > 2000]\n",
    "print(later_than_2000.shape)"
   ]
  },
  {
   "cell_type": "code",
   "execution_count": 9,
   "metadata": {
    "collapsed": true
   },
   "outputs": [],
   "source": [
    "award_categories = [\"Actor -- Leading Role\",\n",
    "                    \"Actor -- Supporting Role\",\n",
    "                    \"Actress -- Leading Role\",\n",
    "                    \"Actress -- Supporting Role\"]\n",
    "\n",
    "nominations = later_than_2000[later_than_2000[\"Category\"].isin(award_categories)]"
   ]
  },
  {
   "cell_type": "code",
   "execution_count": 10,
   "metadata": {
    "collapsed": false,
    "scrolled": true
   },
   "outputs": [
    {
     "name": "stdout",
     "output_type": "stream",
     "text": [
      "(200, 11)\n",
      "   Year               Category          Nominee  \\\n",
      "0  2010  Actor -- Leading Role    Javier Bardem   \n",
      "1  2010  Actor -- Leading Role     Jeff Bridges   \n",
      "2  2010  Actor -- Leading Role  Jesse Eisenberg   \n",
      "3  2010  Actor -- Leading Role      Colin Firth   \n",
      "4  2010  Actor -- Leading Role     James Franco   \n",
      "\n",
      "                          Additional Info Won? Unnamed: 5 Unnamed: 6  \\\n",
      "0                      Biutiful {'Uxbal'}   NO        NaN        NaN   \n",
      "1           True Grit {'Rooster Cogburn'}   NO        NaN        NaN   \n",
      "2  The Social Network {'Mark Zuckerberg'}   NO        NaN        NaN   \n",
      "3    The King's Speech {'King George VI'}  YES        NaN        NaN   \n",
      "4              127 Hours {'Aron Ralston'}   NO        NaN        NaN   \n",
      "\n",
      "  Unnamed: 7 Unnamed: 8 Unnamed: 9 Unnamed: 10  \n",
      "0        NaN        NaN        NaN         NaN  \n",
      "1        NaN        NaN        NaN         NaN  \n",
      "2        NaN        NaN        NaN         NaN  \n",
      "3        NaN        NaN        NaN         NaN  \n",
      "4        NaN        NaN        NaN         NaN  \n"
     ]
    }
   ],
   "source": [
    "print(nominations.shape)\n",
    "print(nominations.head())"
   ]
  },
  {
   "cell_type": "code",
   "execution_count": 11,
   "metadata": {
    "collapsed": false
   },
   "outputs": [
    {
     "name": "stdout",
     "output_type": "stream",
     "text": [
      "0    0\n",
      "1    0\n",
      "2    0\n",
      "3    1\n",
      "4    0\n",
      "Name: Won?, dtype: int64\n"
     ]
    },
    {
     "name": "stderr",
     "output_type": "stream",
     "text": [
      "/dataquest/system/env/python3/lib/python3.4/site-packages/pandas/core/indexing.py:465: SettingWithCopyWarning: \n",
      "A value is trying to be set on a copy of a slice from a DataFrame.\n",
      "Try using .loc[row_indexer,col_indexer] = value instead\n",
      "\n",
      "See the caveats in the documentation: http://pandas.pydata.org/pandas-docs/stable/indexing.html#indexing-view-versus-copy\n",
      "  self.obj[item] = s\n"
     ]
    }
   ],
   "source": [
    "won_col = nominations.loc[:,\"Won?\"]\n",
    "replace_dict = {\"YES\": 1, \"NO\": 0}\n",
    "mapped = won_col.map(replace_dict)\n",
    "nominations.loc[:,\"Won?\"] = mapped\n",
    "print(nominations[\"Won?\"].head())"
   ]
  },
  {
   "cell_type": "code",
   "execution_count": 12,
   "metadata": {
    "collapsed": false
   },
   "outputs": [
    {
     "name": "stderr",
     "output_type": "stream",
     "text": [
      "/dataquest/system/env/python3/lib/python3.4/site-packages/ipykernel/__main__.py:1: SettingWithCopyWarning: \n",
      "A value is trying to be set on a copy of a slice from a DataFrame.\n",
      "Try using .loc[row_indexer,col_indexer] = value instead\n",
      "\n",
      "See the caveats in the documentation: http://pandas.pydata.org/pandas-docs/stable/indexing.html#indexing-view-versus-copy\n",
      "  if __name__ == '__main__':\n"
     ]
    }
   ],
   "source": [
    "nominations[\"Won\"] = nominations[\"Won?\"]"
   ]
  },
  {
   "cell_type": "code",
   "execution_count": 13,
   "metadata": {
    "collapsed": false
   },
   "outputs": [
    {
     "name": "stdout",
     "output_type": "stream",
     "text": [
      "   Year               Category          Nominee  \\\n",
      "0  2010  Actor -- Leading Role    Javier Bardem   \n",
      "1  2010  Actor -- Leading Role     Jeff Bridges   \n",
      "2  2010  Actor -- Leading Role  Jesse Eisenberg   \n",
      "3  2010  Actor -- Leading Role      Colin Firth   \n",
      "4  2010  Actor -- Leading Role     James Franco   \n",
      "\n",
      "                          Additional Info  Won  \n",
      "0                      Biutiful {'Uxbal'}    0  \n",
      "1           True Grit {'Rooster Cogburn'}    0  \n",
      "2  The Social Network {'Mark Zuckerberg'}    0  \n",
      "3    The King's Speech {'King George VI'}    1  \n",
      "4              127 Hours {'Aron Ralston'}    0  \n"
     ]
    }
   ],
   "source": [
    "drop_cols = [\"Won?\", \n",
    "             \"Unnamed: 5\", \n",
    "             \"Unnamed: 6\", \n",
    "             \"Unnamed: 7\", \n",
    "             \"Unnamed: 8\",\n",
    "             \"Unnamed: 9\",\n",
    "             \"Unnamed: 10\"]\n",
    "final_nominations = nominations.drop(drop_cols, axis=1)\n",
    "print(final_nominations.head())"
   ]
  },
  {
   "cell_type": "code",
   "execution_count": 17,
   "metadata": {
    "collapsed": false
   },
   "outputs": [
    {
     "name": "stdout",
     "output_type": "stream",
     "text": [
      "   Year               Category          Nominee  Won               Movie  \\\n",
      "0  2010  Actor -- Leading Role    Javier Bardem    0            Biutiful   \n",
      "1  2010  Actor -- Leading Role     Jeff Bridges    0           True Grit   \n",
      "2  2010  Actor -- Leading Role  Jesse Eisenberg    0  The Social Network   \n",
      "3  2010  Actor -- Leading Role      Colin Firth    1   The King's Speech   \n",
      "4  2010  Actor -- Leading Role     James Franco    0           127 Hours   \n",
      "\n",
      "         Character  \n",
      "0            Uxbal  \n",
      "1  Rooster Cogburn  \n",
      "2  Mark Zuckerberg  \n",
      "3   King George VI  \n",
      "4     Aron Ralston  \n"
     ]
    }
   ],
   "source": [
    "additional_info_one = final_nominations[\"Additional Info\"].str.rstrip(\"'}\")\n",
    "additional_info_two = additional_info_one.str.split(\" {'\")\n",
    "movie_names = additional_info_two.str[0]\n",
    "characters = additional_info_two.str[1]\n",
    "final_nominations[\"Movie\"] = movie_names\n",
    "final_nominations[\"Character\"] = characters\n",
    "final_nominations = final_nominations.drop(\"Additional Info\", axis=1)\n"
   ]
  },
  {
   "cell_type": "code",
   "execution_count": 18,
   "metadata": {
    "collapsed": false
   },
   "outputs": [
    {
     "data": {
      "text/html": [
       "<div>\n",
       "<table border=\"1\" class=\"dataframe\">\n",
       "  <thead>\n",
       "    <tr style=\"text-align: right;\">\n",
       "      <th></th>\n",
       "      <th>Year</th>\n",
       "      <th>Category</th>\n",
       "      <th>Nominee</th>\n",
       "      <th>Won</th>\n",
       "      <th>Movie</th>\n",
       "      <th>Character</th>\n",
       "    </tr>\n",
       "  </thead>\n",
       "  <tbody>\n",
       "    <tr>\n",
       "      <th>0</th>\n",
       "      <td>2010</td>\n",
       "      <td>Actor -- Leading Role</td>\n",
       "      <td>Javier Bardem</td>\n",
       "      <td>0</td>\n",
       "      <td>Biutiful</td>\n",
       "      <td>Uxbal</td>\n",
       "    </tr>\n",
       "    <tr>\n",
       "      <th>1</th>\n",
       "      <td>2010</td>\n",
       "      <td>Actor -- Leading Role</td>\n",
       "      <td>Jeff Bridges</td>\n",
       "      <td>0</td>\n",
       "      <td>True Grit</td>\n",
       "      <td>Rooster Cogburn</td>\n",
       "    </tr>\n",
       "    <tr>\n",
       "      <th>2</th>\n",
       "      <td>2010</td>\n",
       "      <td>Actor -- Leading Role</td>\n",
       "      <td>Jesse Eisenberg</td>\n",
       "      <td>0</td>\n",
       "      <td>The Social Network</td>\n",
       "      <td>Mark Zuckerberg</td>\n",
       "    </tr>\n",
       "    <tr>\n",
       "      <th>3</th>\n",
       "      <td>2010</td>\n",
       "      <td>Actor -- Leading Role</td>\n",
       "      <td>Colin Firth</td>\n",
       "      <td>1</td>\n",
       "      <td>The King's Speech</td>\n",
       "      <td>King George VI</td>\n",
       "    </tr>\n",
       "    <tr>\n",
       "      <th>4</th>\n",
       "      <td>2010</td>\n",
       "      <td>Actor -- Leading Role</td>\n",
       "      <td>James Franco</td>\n",
       "      <td>0</td>\n",
       "      <td>127 Hours</td>\n",
       "      <td>Aron Ralston</td>\n",
       "    </tr>\n",
       "  </tbody>\n",
       "</table>\n",
       "</div>"
      ],
      "text/plain": [
       "   Year               Category          Nominee  Won               Movie  \\\n",
       "0  2010  Actor -- Leading Role    Javier Bardem    0            Biutiful   \n",
       "1  2010  Actor -- Leading Role     Jeff Bridges    0           True Grit   \n",
       "2  2010  Actor -- Leading Role  Jesse Eisenberg    0  The Social Network   \n",
       "3  2010  Actor -- Leading Role      Colin Firth    1   The King's Speech   \n",
       "4  2010  Actor -- Leading Role     James Franco    0           127 Hours   \n",
       "\n",
       "         Character  \n",
       "0            Uxbal  \n",
       "1  Rooster Cogburn  \n",
       "2  Mark Zuckerberg  \n",
       "3   King George VI  \n",
       "4     Aron Ralston  "
      ]
     },
     "execution_count": 18,
     "metadata": {},
     "output_type": "execute_result"
    }
   ],
   "source": [
    "final_nominations.head()"
   ]
  },
  {
   "cell_type": "code",
   "execution_count": 19,
   "metadata": {
    "collapsed": true
   },
   "outputs": [],
   "source": [
    "import sqlite3\n",
    "conn = sqlite3.connect(\"nominations.db\")"
   ]
  },
  {
   "cell_type": "code",
   "execution_count": 21,
   "metadata": {
    "collapsed": false
   },
   "outputs": [],
   "source": [
    "final_nominations.to_sql(\"nominations\", conn, index=False)"
   ]
  },
  {
   "cell_type": "code",
   "execution_count": 24,
   "metadata": {
    "collapsed": false
   },
   "outputs": [
    {
     "data": {
      "text/plain": [
       "[(0, 'Year', 'INTEGER', 0, None, 0),\n",
       " (1, 'Category', 'TEXT', 0, None, 0),\n",
       " (2, 'Nominee', 'TEXT', 0, None, 0),\n",
       " (3, 'Won', 'INTEGER', 0, None, 0),\n",
       " (4, 'Movie', 'TEXT', 0, None, 0),\n",
       " (5, 'Character', 'TEXT', 0, None, 0)]"
      ]
     },
     "execution_count": 24,
     "metadata": {},
     "output_type": "execute_result"
    }
   ],
   "source": [
    "results = conn.execute(\"pragma table_info(\\\"nominations\\\")\").fetchall()\n",
    "results"
   ]
  },
  {
   "cell_type": "code",
   "execution_count": 29,
   "metadata": {
    "collapsed": false
   },
   "outputs": [
    {
     "name": "stdout",
     "output_type": "stream",
     "text": [
      "[(2010, 'Actor -- Leading Role', 'Javier Bardem', 0, 'Biutiful', 'Uxbal'), (2010, 'Actor -- Leading Role', 'Jeff Bridges', 0, 'True Grit', 'Rooster Cogburn'), (2010, 'Actor -- Leading Role', 'Jesse Eisenberg', 0, 'The Social Network', 'Mark Zuckerberg'), (2010, 'Actor -- Leading Role', 'Colin Firth', 1, \"The King's Speech\", 'King George VI'), (2010, 'Actor -- Leading Role', 'James Franco', 0, '127 Hours', 'Aron Ralston'), (2010, 'Actor -- Supporting Role', 'Christian Bale', 1, 'The Fighter', 'Dicky Eklund'), (2010, 'Actor -- Supporting Role', 'John Hawkes', 0, \"Winter's Bone\", 'Teardrop'), (2010, 'Actor -- Supporting Role', 'Jeremy Renner', 0, 'The Town', 'James Coughlin'), (2010, 'Actor -- Supporting Role', 'Mark Ruffalo', 0, 'The Kids Are All Right', 'Paul'), (2010, 'Actor -- Supporting Role', 'Geoffrey Rush', 0, \"The King's Speech\", 'Lionel Logue')]\n"
     ]
    },
    {
     "data": {
      "text/plain": [
       "<function Connection.close>"
      ]
     },
     "execution_count": 29,
     "metadata": {},
     "output_type": "execute_result"
    }
   ],
   "source": [
    "sample = conn.execute(\"select * from nominations limit 10\").fetchall()\n",
    "print(sample)\n",
    "conn.close"
   ]
  }
 ],
 "metadata": {
  "kernelspec": {
   "display_name": "Python 3",
   "language": "python",
   "name": "python3"
  },
  "language_info": {
   "codemirror_mode": {
    "name": "ipython",
    "version": 3
   },
   "file_extension": ".py",
   "mimetype": "text/x-python",
   "name": "python",
   "nbconvert_exporter": "python",
   "pygments_lexer": "ipython3",
   "version": "3.4.3"
  }
 },
 "nbformat": 4,
 "nbformat_minor": 0
}
